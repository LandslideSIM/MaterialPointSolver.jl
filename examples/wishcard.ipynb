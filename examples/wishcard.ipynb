{
 "cells": [
  {
   "cell_type": "markdown",
   "id": "f188a883-3dde-484f-a7ef-2b009dbc33c6",
   "metadata": {},
   "source": [
    "# MaterialPointSolver.jl Showcase 04\n",
    "\n",
    "Author: Zenan Huo <br>\n",
    "Date: 25-Aug-2024 <br>\n",
    "\n",
    "---\n",
    "\n",
    "This is the case for wish card 2024. JUST FOR FUN :)"
   ]
  },
  {
   "cell_type": "code",
   "execution_count": 39,
   "id": "103eca29-e061-4ab8-9bf8-be73f8acc716",
   "metadata": {},
   "outputs": [],
   "source": [
    "using MaterialPointSolver\n",
    "using KernelAbstractions\n",
    "using CUDA"
   ]
  },
  {
   "cell_type": "code",
   "execution_count": 40,
   "id": "f621319b-b9e7-4edc-92a8-eb990e0cb7c8",
   "metadata": {},
   "outputs": [
    {
     "name": "stderr",
     "output_type": "stream",
     "text": [
      "\u001b[36m\u001b[1m[ \u001b[22m\u001b[39m\u001b[36m\u001b[1mInfo: \u001b[22m\u001b[39mcode warm-up, wait a moment 🔥\n"
     ]
    }
   ],
   "source": [
    "warmup(Val(:CUDA)) # optional"
   ]
  },
  {
   "cell_type": "code",
   "execution_count": 41,
   "id": "e8c9fd42-40cb-4541-8b05-257570afb746",
   "metadata": {},
   "outputs": [],
   "source": [
    "init_grid_space_x = 0.1\n",
    "init_grid_space_y = 0.1\n",
    "init_grid_space_z = 0.1\n",
    "init_grid_range_x = [-5.3,  5.3]\n",
    "init_grid_range_y = [-5.3,  5.3]\n",
    "init_grid_range_z = [-0.3, 23.3]\n",
    "init_mp_in_space  = 2\n",
    "init_project_name = \"2024_wish_card\"\n",
    "init_project_path = joinpath(@__DIR__, \"outputs\", init_project_name)\n",
    "init_constitutive = :druckerprager\n",
    "init_gravity      = -9.8\n",
    "init_ζs           = 0\n",
    "init_ρs           = 2600\n",
    "init_ν            = 0.3\n",
    "init_E            = 1e7\n",
    "init_Ks           = init_E / (3 * (1 - 2 * init_ν))\n",
    "init_G            = init_E / (2 * (1 +     init_ν))\n",
    "init_T            = 18\n",
    "init_Te           = 0\n",
    "init_ΔT           = 0.1 * init_grid_space_x / sqrt((init_Ks + 4/3 * init_G) / init_ρs)\n",
    "init_step         = (t = floor(init_T / init_ΔT / 150); t<10 ? 1 : t)\n",
    "init_σt           = 0\n",
    "init_ϕ            = deg2rad(35)\n",
    "init_c            = 0\n",
    "init_ψ            = 0\n",
    "init_basis        = :uGIMP\n",
    "init_phase        = 1\n",
    "init_NIC          = 64\n",
    "iInt              = Int64\n",
    "iFloat            = Float64;"
   ]
  },
  {
   "cell_type": "markdown",
   "id": "ff7e7b8b-82f3-4d6f-adb2-ed768fb230c7",
   "metadata": {},
   "source": [
    "### Parameters Setup"
   ]
  },
  {
   "cell_type": "code",
   "execution_count": 42,
   "id": "9dfa046a-a284-453c-a1d4-4778f438b71a",
   "metadata": {},
   "outputs": [
    {
     "name": "stderr",
     "output_type": "stream",
     "text": [
      "\u001b[33m\u001b[1m┌ \u001b[22m\u001b[39m\u001b[33m\u001b[1mWarning: \u001b[22m\u001b[39mHDF5 forced ON due to the animation\n",
      "\u001b[33m\u001b[1m└ \u001b[22m\u001b[39m\u001b[90m@ MaterialPointSolver ~/Workbench/MaterialPointSolver.jl/src/types/modelargs.jl:163\u001b[39m\n"
     ]
    },
    {
     "data": {
      "text/plain": [
       "Args3D{Int64, Float64}\n",
       "──────────────────────\n",
       "project name    : 2024_wish_card\n",
       "project path    : /home/zhuo/Workbench/MaterialPointSolver.jl/examples/outputs/2024_wish_card\n",
       "precision       : FP64\n",
       "constitutive    : druckerprager\n",
       "basis method    : uGIMP\n",
       "mitigate vollock: true\n",
       "coupling scheme : OS\n"
      ]
     },
     "execution_count": 42,
     "metadata": {},
     "output_type": "execute_result"
    }
   ],
   "source": [
    "args = Args3D{iInt, iFloat}(\n",
    "    Ttol         = init_T,\n",
    "    ΔT           = init_ΔT,\n",
    "    Te           = init_Te,\n",
    "    time_step    = :fixed,\n",
    "    FLIP         = 1,\n",
    "    PIC          = 0,\n",
    "    ζs           = init_ζs,\n",
    "    gravity      = init_gravity,\n",
    "    project_name = init_project_name,\n",
    "    project_path = init_project_path,\n",
    "    constitutive = init_constitutive,\n",
    "    animation    = true,\n",
    "    hdf5         = false,\n",
    "    hdf5_step    = init_step,\n",
    "    MVL          = true,\n",
    "    device       = :CUDA,\n",
    "    coupling     = :OS,\n",
    "    progressbar  = true,\n",
    "    basis        = init_basis\n",
    ")"
   ]
  },
  {
   "cell_type": "markdown",
   "id": "d0ebb1a6-d22a-4d75-9949-4758f29a6d1d",
   "metadata": {},
   "source": [
    "### Background Grid Setup"
   ]
  },
  {
   "cell_type": "code",
   "execution_count": 43,
   "id": "bf708185-b5e2-457b-90b5-71d4c6864ce0",
   "metadata": {},
   "outputs": [
    {
     "data": {
      "text/plain": [
       "Grid3D{Int64, Float64}\n",
       "──────────────────────\n",
       "node: 2713413\n",
       "cell: 2651696\n"
      ]
     },
     "execution_count": 43,
     "metadata": {},
     "output_type": "execute_result"
    }
   ],
   "source": [
    "grid = Grid3D{iInt, iFloat}(\n",
    "    NIC      = init_NIC,\n",
    "    range_x1 = init_grid_range_x[1],\n",
    "    range_x2 = init_grid_range_x[2],\n",
    "    range_y1 = init_grid_range_y[1],\n",
    "    range_y2 = init_grid_range_y[2],\n",
    "    range_z1 = init_grid_range_z[1],\n",
    "    range_z2 = init_grid_range_z[2],\n",
    "    space_x  = init_grid_space_x,\n",
    "    space_y  = init_grid_space_y,\n",
    "    space_z  = init_grid_space_z,\n",
    "    phase    = init_phase\n",
    ")"
   ]
  },
  {
   "cell_type": "markdown",
   "id": "429f90de-4817-44bf-b508-bb7e9e22cb59",
   "metadata": {},
   "source": [
    "### Material Points Setup"
   ]
  },
  {
   "cell_type": "code",
   "execution_count": 44,
   "id": "07b76fac-b4db-430a-8f02-444eecea725c",
   "metadata": {},
   "outputs": [
    {
     "data": {
      "text/plain": [
       "Particle3D{Int64, Float64}\n",
       "──────────────────────────\n",
       "particle: 1000000\n"
      ]
     },
     "execution_count": 44,
     "metadata": {},
     "output_type": "execute_result"
    }
   ],
   "source": [
    "space_x = grid.space_x / init_mp_in_space\n",
    "space_y = grid.space_y / init_mp_in_space\n",
    "space_z = grid.space_z / init_mp_in_space\n",
    "x_tmp, y_tmp, z_tmp = meshbuilder( -2.5 + space_x / 2 : space_x :  2.5 - space_x / 2,\n",
    "                                   -2.5 + space_y / 2 : space_y :  2.5 - space_y / 2,\n",
    "                                   17   + space_z / 2 : space_z : 22   - space_z / 2)\n",
    "mp_num = length(x_tmp)\n",
    "mp_ρs  = ones(mp_num).*init_ρs\n",
    "mp     = Particle3D{iInt, iFloat}(space_x=space_x, space_y=space_y, space_z=space_z,\n",
    "    pos=[x_tmp y_tmp z_tmp], ρs=mp_ρs, NIC=init_NIC, phase=init_phase)"
   ]
  },
  {
   "cell_type": "markdown",
   "id": "561d63e9-f6ea-4c05-9aa7-bb142faa93e9",
   "metadata": {},
   "source": [
    "### Particle Property Setup"
   ]
  },
  {
   "cell_type": "code",
   "execution_count": 45,
   "id": "16c8e6f6-9978-4ad3-9441-dca78df5afd8",
   "metadata": {},
   "outputs": [
    {
     "data": {
      "text/plain": [
       "ParticleProperty{Int64, Float64}\n",
       "────────────────────────────────\n",
       "material partition: 1\n"
      ]
     },
     "execution_count": 45,
     "metadata": {},
     "output_type": "execute_result"
    }
   ],
   "source": [
    "mp_layer   = ones(mp_num)\n",
    "mp_ν       = [init_ν]\n",
    "mp_E       = [init_E]\n",
    "mp_G       = [init_G]\n",
    "mp_σt      = [init_σt]\n",
    "mp_ϕ       = [init_ϕ]\n",
    "mp_c       = [init_c]\n",
    "mp_ψ       = [init_ψ]\n",
    "mp_Ks      = [init_Ks]\n",
    "pts_attr   = ParticleProperty{iInt, iFloat}(layer=mp_layer, ν=mp_ν, E=mp_E, G=mp_G, \n",
    "    σt=mp_σt, ϕ=mp_ϕ, c=mp_c, ψ=mp_ψ, Ks=mp_Ks)"
   ]
  },
  {
   "cell_type": "markdown",
   "id": "4d096431-b67b-4d61-b376-50f34fe8e66d",
   "metadata": {},
   "source": [
    "### Boundary Condition Nodes Index"
   ]
  },
  {
   "cell_type": "code",
   "execution_count": 46,
   "id": "8c6002c5-92e0-490c-b62f-54d450a20a61",
   "metadata": {},
   "outputs": [
    {
     "data": {
      "text/plain": [
       "VBoundary3D{Int64, Float64}\n",
       "───────────────────────────\n",
       "velocity boundary\n"
      ]
     },
     "execution_count": 46,
     "metadata": {},
     "output_type": "execute_result"
    }
   ],
   "source": [
    "vx_idx  = zeros(iInt, grid.node_num)\n",
    "vy_idx  = zeros(iInt, grid.node_num)\n",
    "vz_idx  = zeros(iInt, grid.node_num)\n",
    "tmp_idx = findall(i->((grid.pos[i, 1] < -2.5 || grid.pos[i, 1] > 2.5) && (23 > grid.pos[i, 3] > 16)) ||\n",
    "                     ( grid.pos[i, 1] < -5   || grid.pos[i, 1] > 5  ) || \n",
    "                     ( grid.pos[i, 3] <  0   || grid.pos[i, 3] > 23 ), 1:grid.node_num)\n",
    "tmp_idy = findall(i->((grid.pos[i, 2] < -2.5 || grid.pos[i, 2] > 2.5) && (23 > grid.pos[i, 3] > 16)) ||\n",
    "                     ( grid.pos[i, 2] < -5   || grid.pos[i, 2] > 5  ) ||\n",
    "                     ( grid.pos[i, 3] <  0   || grid.pos[i, 3] > 23 ), 1:grid.node_num)\n",
    "tmp_idz = findall(i->((grid.pos[i, 2]^2 > 0.8^2 - grid.pos[i, 1]^2) && (16.5 ≤ grid.pos[i, 3] ≤ 17)) ||\n",
    "                     ( grid.pos[i, 3] ≤  0   || grid.pos[i, 3] > 23 ), 1:grid.node_num)\n",
    "vx_idx[tmp_idx] .= 1\n",
    "vy_idx[tmp_idy] .= 1\n",
    "vz_idx[tmp_idz] .= 1\n",
    "bc = VBoundary3D{iInt, iFloat}(\n",
    "    Vx_s_Idx = vx_idx,\n",
    "    Vx_s_Val = zeros(grid.node_num),\n",
    "    Vy_s_Idx = vy_idx,\n",
    "    Vy_s_Val = zeros(grid.node_num),\n",
    "    Vz_s_Idx = vz_idx,\n",
    "    Vz_s_Val = zeros(grid.node_num)\n",
    ")"
   ]
  },
  {
   "cell_type": "markdown",
   "id": "f35f7adb-81ff-45b4-a963-9701ad878c51",
   "metadata": {},
   "source": [
    "### MPM Solver"
   ]
  },
  {
   "cell_type": "code",
   "execution_count": 47,
   "id": "5b4e2258-22cb-43f9-8a31-5ebed76bd1d0",
   "metadata": {},
   "outputs": [],
   "source": [
    "@kernel inbounds=true function testG2P_OS!(\n",
    "    grid::    KernelGrid3D{T1, T2},\n",
    "    mp  ::KernelParticle3D{T1, T2}\n",
    ") where {T1, T2}\n",
    "    ix = @index(Global)\n",
    "    if ix <= mp.num\n",
    "        dF1 = dF2 = dF3 = dF4 = dF5 = dF6 = dF7 = dF8 = dF9 = T2(0.0)\n",
    "        for iy in Int32(1):Int32(mp.NIC)\n",
    "            if mp.Ni[ix, iy] != T2(0.0)\n",
    "                p2n = mp.p2n[ix, iy]\n",
    "                ∂Nx = mp.∂Nx[ix, iy]; ds1 = grid.Δd_s[p2n, 1]\n",
    "                ∂Ny = mp.∂Ny[ix, iy]; ds2 = grid.Δd_s[p2n, 2]\n",
    "                ∂Nz = mp.∂Nz[ix, iy]; ds3 = grid.Δd_s[p2n, 3]\n",
    "                # compute solid incremental deformation gradient\n",
    "                dF1 += ds1*∂Nx; dF2 += ds1*∂Ny; dF3 += ds1*∂Nz\n",
    "                dF4 += ds2*∂Nx; dF5 += ds2*∂Ny; dF6 += ds2*∂Nz\n",
    "                dF7 += ds3*∂Nx; dF8 += ds3*∂Ny; dF9 += ds3*∂Nz\n",
    "            end\n",
    "        end\n",
    "        mp.ΔFs[ix, 1] = dF1; mp.ΔFs[ix, 2] = dF2; mp.ΔFs[ix, 3] = dF3\n",
    "        mp.ΔFs[ix, 4] = dF4; mp.ΔFs[ix, 5] = dF5; mp.ΔFs[ix, 6] = dF6\n",
    "        mp.ΔFs[ix, 7] = dF7; mp.ΔFs[ix, 8] = dF8; mp.ΔFs[ix, 9] = dF9\n",
    "        # compute strain increment\n",
    "        mp.Δϵij_s[ix, 1] = dF1\n",
    "        mp.Δϵij_s[ix, 2] = dF5\n",
    "        mp.Δϵij_s[ix, 3] = dF9\n",
    "        mp.Δϵij_s[ix, 4] = dF2+dF4\n",
    "        mp.Δϵij_s[ix, 5] = dF6+dF8\n",
    "        mp.Δϵij_s[ix, 6] = dF3+dF7\n",
    "        # update strain tensor\n",
    "        mp.ϵij_s[ix, 1] += dF1\n",
    "        mp.ϵij_s[ix, 2] += dF5\n",
    "        mp.ϵij_s[ix, 3] += dF9\n",
    "        mp.ϵij_s[ix, 4] += dF2+dF4\n",
    "        mp.ϵij_s[ix, 5] += dF6+dF8\n",
    "        mp.ϵij_s[ix, 6] += dF3+dF7\n",
    "        # deformation gradient matrix\n",
    "        F1 = mp.F[ix, 1]; F2 = mp.F[ix, 2]; F3 = mp.F[ix, 3]\n",
    "        F4 = mp.F[ix, 4]; F5 = mp.F[ix, 5]; F6 = mp.F[ix, 6]\n",
    "        F7 = mp.F[ix, 7]; F8 = mp.F[ix, 8]; F9 = mp.F[ix, 9]        \n",
    "        mp.F[ix, 1] = (dF1+T2(1.0))*F1+dF2*F4+dF3*F7\n",
    "        mp.F[ix, 2] = (dF1+T2(1.0))*F2+dF2*F5+dF3*F8\n",
    "        mp.F[ix, 3] = (dF1+T2(1.0))*F3+dF2*F6+dF3*F9\n",
    "        mp.F[ix, 4] = (dF5+T2(1.0))*F4+dF4*F1+dF6*F7\n",
    "        mp.F[ix, 5] = (dF5+T2(1.0))*F5+dF4*F2+dF6*F8\n",
    "        mp.F[ix, 6] = (dF5+T2(1.0))*F6+dF4*F3+dF6*F9\n",
    "        mp.F[ix, 7] = (dF9+T2(1.0))*F7+dF8*F4+dF7*F1\n",
    "        mp.F[ix, 8] = (dF9+T2(1.0))*F8+dF8*F5+dF7*F2\n",
    "        mp.F[ix, 9] = (dF9+T2(1.0))*F9+dF8*F6+dF7*F3\n",
    "        # update jacobian value and particle volume\n",
    "        mp.J[ix] = mp.F[ix, 1]*mp.F[ix, 5]*mp.F[ix, 9]+mp.F[ix, 2]*mp.F[ix, 6]*mp.F[ix, 7]+\n",
    "                   mp.F[ix, 3]*mp.F[ix, 4]*mp.F[ix, 8]-mp.F[ix, 7]*mp.F[ix, 5]*mp.F[ix, 3]-\n",
    "                   mp.F[ix, 8]*mp.F[ix, 6]*mp.F[ix, 1]-mp.F[ix, 9]*mp.F[ix, 4]*mp.F[ix, 2]\n",
    "    end\n",
    "end"
   ]
  },
  {
   "cell_type": "code",
   "execution_count": 48,
   "id": "b2dccfbd-692f-4258-95f4-4be55de4a727",
   "metadata": {},
   "outputs": [
    {
     "data": {
      "text/plain": [
       "testprocedure! (generic function with 1 method)"
      ]
     },
     "execution_count": 48,
     "metadata": {},
     "output_type": "execute_result"
    }
   ],
   "source": [
    "function testprocedure!(args    ::MODELARGS, \n",
    "                        grid    ::GRID, \n",
    "                        mp      ::PARTICLE, \n",
    "                        pts_attr::PROPERTY,\n",
    "                        bc      ::BOUNDARY,\n",
    "                        ΔT      ::T2,\n",
    "                        Ti      ::T2,\n",
    "                                ::Val{:OS},\n",
    "                                ::Val{:MUSL}) where {T2}\n",
    "    Ti < args.Te ? G = args.gravity / args.Te * Ti : G = args.gravity\n",
    "    dev = getBackend(Val(args.device))\n",
    "    resetgridstatus_OS!(dev)(ndrange=grid.node_num, grid)\n",
    "    args.device == :CPU && args.basis == :uGIMP ? \n",
    "        resetmpstatus_OS_CPU!(dev)(ndrange=mp.num, grid, mp, Val(args.basis)) :\n",
    "        resetmpstatus_OS!(dev)(ndrange=mp.num, grid, mp, Val(args.basis))\n",
    "    P2G_OS!(dev)(ndrange=mp.num, grid, mp, G)\n",
    "    solvegrid_OS!(dev)(ndrange=grid.node_num, grid, bc, ΔT, args.ζs)\n",
    "    doublemapping1_OS!(dev)(ndrange=mp.num, grid, mp, pts_attr, ΔT, args.FLIP, args.PIC)\n",
    "    doublemapping2_OS!(dev)(ndrange=mp.num, grid, mp)\n",
    "    doublemapping3_OS!(dev)(ndrange=grid.node_num, grid, bc, ΔT)\n",
    "    testG2P_OS!(dev)(ndrange=mp.num, grid, mp)\n",
    "    if args.constitutive==:hyperelastic\n",
    "        hyE!(dev)(ndrange=mp.num, mp, pts_attr)\n",
    "    elseif args.constitutive==:linearelastic\n",
    "        liE!(dev)(ndrange=mp.num, mp, pts_attr)\n",
    "    elseif args.constitutive==:druckerprager\n",
    "        liE!(dev)(ndrange=mp.num, mp, pts_attr)\n",
    "        if Ti≥args.Te\n",
    "            dpP!(dev)(ndrange=mp.num, mp, pts_attr)\n",
    "        end\n",
    "    elseif args.constitutive==:mohrcoulomb\n",
    "        liE!(dev)(ndrange=mp.num, mp, pts_attr)\n",
    "        if Ti≥args.Te\n",
    "            mcP!(dev)(ndrange=mp.num, mp, pts_attr)\n",
    "        end\n",
    "    end\n",
    "    if args.MVL == true\n",
    "        vollock1_OS!(dev)(ndrange=mp.num, grid, mp)\n",
    "        vollock2_OS!(dev)(ndrange=mp.num, grid, mp)\n",
    "    end\n",
    "    return nothing\n",
    "end"
   ]
  },
  {
   "cell_type": "code",
   "execution_count": 49,
   "id": "a39216f2-bfe8-4dc2-b1ad-fb6fd27b3124",
   "metadata": {},
   "outputs": [
    {
     "name": "stderr",
     "output_type": "stream",
     "text": [
      "\u001b[36m\u001b[1m┌ \u001b[22m\u001b[39m\u001b[36m\u001b[1mInfo: \u001b[22m\u001b[39m2024_wish_card [3D/CUDA]\n",
      "\u001b[36m\u001b[1m│ \u001b[22m\u001b[39m────────────────┬─────────────┬─────────────────\n",
      "\u001b[36m\u001b[1m│ \u001b[22m\u001b[39mΔT  : 1.39e-04s │ PIC :  0.00 │ scheme   : MUSL\n",
      "\u001b[36m\u001b[1m│ \u001b[22m\u001b[39mTtol: 1.80e+01s │ FLIP:  1.00 │ coupling : OS\n",
      "\u001b[36m\u001b[1m│ \u001b[22m\u001b[39mpts : 1.00e+06  │ ζs  :  0.00 │ animation: true\n",
      "\u001b[36m\u001b[1m│ \u001b[22m\u001b[39mnds : 2.71e+06  │ ζw  :  0.00 │ precision: FP64\n",
      "\u001b[36m\u001b[1m│ \u001b[22m\u001b[39mMVL :     true  │ HDF5:  true │ material : D-P\n",
      "\u001b[36m\u001b[1m└ \u001b[22m\u001b[39m────────────────┴─────────────┴─────────────────\n"
     ]
    },
    {
     "name": "stdout",
     "output_type": "stream",
     "text": [
      "\u001b[1;32m[▲ I/O:\u001b[0m \u001b[0;32mhost [≈ 3.2 GiB] → device 0 [:CUDA]\u001b[0m\n"
     ]
    },
    {
     "name": "stderr",
     "output_type": "stream",
     "text": [
      "\u001b[37m\u001b[1;36m[ Info:\u001b[0m solving 100% ◼◼◼◼◼◼◼◼◼◼◼◼  Time: 1:26:49\u001b[39m\n"
     ]
    },
    {
     "name": "stdout",
     "output_type": "stream",
     "text": [
      "\u001b[1;31m[▼ I/O:\u001b[0m \u001b[0;31mdevice 0 [CUDA] → host\u001b[0m\n",
      "\u001b[1;32m[• I/O:\u001b[0m \u001b[0;32mfree device 0 memory\u001b[0m\n"
     ]
    },
    {
     "name": "stderr",
     "output_type": "stream",
     "text": [
      "\u001b[36m\u001b[1m┌ \u001b[22m\u001b[39m\u001b[36m\u001b[1mInfo: \u001b[22m\u001b[39mperformance\n",
      "\u001b[36m\u001b[1m│ \u001b[22m\u001b[39m─────────────────────\n",
      "\u001b[36m\u001b[1m│ \u001b[22m\u001b[39mwtime: 01:26:50\n",
      "\u001b[36m\u001b[1m│ \u001b[22m\u001b[39miters: 1.30e+05\n",
      "\u001b[36m\u001b[1m│ \u001b[22m\u001b[39mspeed: 2.49e+01  it/s\n",
      "\u001b[36m\u001b[1m│ \u001b[22m\u001b[39mMTeff: 1.89e+02 GiB/s\n",
      "\u001b[36m\u001b[1m└ \u001b[22m\u001b[39m─────────────────────\n",
      "\u001b[37m\u001b[1;36m[ Info:\u001b[0m ani_vtu 100% ◼◼◼◼◼◼◼◼◼◼◼◼  Time: 0:02:15\u001b[39m\n"
     ]
    }
   ],
   "source": [
    "materialpointsolver!(args, grid, mp, pts_attr, bc, workflow=testprocedure!)"
   ]
  },
  {
   "cell_type": "markdown",
   "id": "cad9b496-5f0e-4df4-bdbc-ddbeddc785e8",
   "metadata": {},
   "source": [
    "# Post processing"
   ]
  },
  {
   "cell_type": "code",
   "execution_count": 1,
   "id": "36d81ce6-2775-4427-a5f2-bfa58cbd35b8",
   "metadata": {},
   "outputs": [
    {
     "data": {
      "text/html": [
       "<video width=\"640\" controls>\n",
       "  <source src=\"https://raw.githubusercontent.com/LandslideSIM/.github/main/assets/MaterialPointSolver.jl/granular_render.mp4\" type=\"video/mp4\">\n",
       "  Your browser does not support the video tag.\n",
       "</video>\n"
      ]
     },
     "metadata": {},
     "output_type": "display_data"
    }
   ],
   "source": [
    "video_path = \"https://raw.githubusercontent.com/LandslideSIM/.github/main/assets/MaterialPointSolver.jl/granular_render.mp4\"\n",
    "\n",
    "IJulia.display(\"text/html\", \"\"\"\n",
    "<video width=\"640\" controls>\n",
    "  <source src=\"$video_path\" type=\"video/mp4\">\n",
    "  Your browser does not support the video tag.\n",
    "</video>\n",
    "\"\"\")"
   ]
  },
  {
   "cell_type": "code",
   "execution_count": 2,
   "id": "032fbf0a-18da-4771-92ec-019d1a6faecc",
   "metadata": {},
   "outputs": [
    {
     "data": {
      "text/html": [
       "<video width=\"640\" controls>\n",
       "  <source src=\"https://raw.githubusercontent.com/LandslideSIM/.github/main/assets/MaterialPointSolver.jl/epII.mp4\" type=\"video/mp4\">\n",
       "  Your browser does not support the video tag.\n",
       "</video>\n"
      ]
     },
     "metadata": {},
     "output_type": "display_data"
    }
   ],
   "source": [
    "video_path = \"https://raw.githubusercontent.com/LandslideSIM/.github/main/assets/MaterialPointSolver.jl/epII.mp4\"\n",
    "\n",
    "IJulia.display(\"text/html\", \"\"\"\n",
    "<video width=\"640\" controls>\n",
    "  <source src=\"$video_path\" type=\"video/mp4\">\n",
    "  Your browser does not support the video tag.\n",
    "</video>\n",
    "\"\"\")"
   ]
  }
 ],
 "metadata": {
  "kernelspec": {
   "display_name": "Julia 1.10.5",
   "language": "julia",
   "name": "julia-1.10"
  },
  "language_info": {
   "file_extension": ".jl",
   "mimetype": "application/julia",
   "name": "julia",
   "version": "1.10.5"
  }
 },
 "nbformat": 4,
 "nbformat_minor": 5
}
