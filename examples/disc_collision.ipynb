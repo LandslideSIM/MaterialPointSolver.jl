{
 "cells": [
  {
   "cell_type": "markdown",
   "id": "f188a883-3dde-484f-a7ef-2b009dbc33c6",
   "metadata": {},
   "source": [
    "# MaterialPointSolver.jl Showcase 03\n",
    "\n",
    "Author: Zenan Huo <br>\n",
    "Date: 25-Aug-2024 <br>\n",
    "\n",
    "---\n",
    "\n",
    "We use a 2D discs collision case to make a dashboard with MaterialPointSolver.jl.\n",
    "\n",
    "- Presents how to modifiy the algorithm in kernel functions.\n",
    "- Illustrates how to invoke kernel functions written by yourself."
   ]
  },
  {
   "cell_type": "code",
   "execution_count": 1,
   "id": "103eca29-e061-4ab8-9bf8-be73f8acc716",
   "metadata": {},
   "outputs": [],
   "source": [
    "using MaterialPointSolver\n",
    "using CairoMakie\n",
    "using CUDA\n",
    "using ProgressMeter\n",
    "using KernelAbstractions\n",
    "using HDF5 "
   ]
  },
  {
   "cell_type": "markdown",
   "id": "48d7b737-94b3-4403-99c0-d0193cfdfc8f",
   "metadata": {},
   "source": [
    "!!! Add packages if they are not in your Julia `env`."
   ]
  },
  {
   "cell_type": "code",
   "execution_count": 2,
   "id": "f621319b-b9e7-4edc-92a8-eb990e0cb7c8",
   "metadata": {},
   "outputs": [
    {
     "name": "stderr",
     "output_type": "stream",
     "text": [
      "\u001b[36m\u001b[1m[ \u001b[22m\u001b[39m\u001b[36m\u001b[1mInfo: \u001b[22m\u001b[39mcode warm-up, wait a moment 🔥\n"
     ]
    }
   ],
   "source": [
    "warmup(Val(:CUDA)) # optional"
   ]
  },
  {
   "cell_type": "code",
   "execution_count": 3,
   "id": "e8c9fd42-40cb-4541-8b05-257570afb746",
   "metadata": {},
   "outputs": [],
   "source": [
    "rtsdir     = joinpath(@__DIR__, \"outputs\")\n",
    "assetsdir  = MaterialPointSolver.assets_dir\n",
    "figregular = MaterialPointSolver.tnr\n",
    "figbold    = MaterialPointSolver.tnrb\n",
    "\n",
    "init_basis        = :uGIMP\n",
    "init_NIC          = 16\n",
    "init_phase        = 1\n",
    "init_grid_space_x = 0.005#0.05\n",
    "init_grid_space_y = 0.005#0.05\n",
    "init_grid_range_x = [-1, 1]\n",
    "init_grid_range_y = [-1, 1]\n",
    "init_mp_in_space  = 2\n",
    "init_project_name = \"2d_discs\"\n",
    "init_project_path = joinpath(rtsdir, init_project_name)\n",
    "init_constitutive = :linearelastic\n",
    "init_gravity      = 0\n",
    "init_ζs           = 0\n",
    "init_ρs           = 1000\n",
    "init_ν            = 0.3\n",
    "init_E            = 1e3\n",
    "init_Ks           = init_E/(3(1-2*init_ν))\n",
    "init_G            = init_E/(2(1+  init_ν))\n",
    "init_T            = 3\n",
    "init_Te           = 0\n",
    "init_ΔT           = 0.5*init_grid_space_x/sqrt(init_E/init_ρs)#0.001#\n",
    "init_step         = (t = floor(init_T / init_ΔT / 700); t<10 ? 1 : t)\n",
    "init_scheme       = :MUSL\n",
    "iInt              = Int64\n",
    "iFloat            = Float64;"
   ]
  },
  {
   "cell_type": "markdown",
   "id": "ff7e7b8b-82f3-4d6f-adb2-ed768fb230c7",
   "metadata": {},
   "source": [
    "### Parameters Setup"
   ]
  },
  {
   "cell_type": "code",
   "execution_count": 4,
   "id": "9dfa046a-a284-453c-a1d4-4778f438b71a",
   "metadata": {},
   "outputs": [
    {
     "data": {
      "text/plain": [
       "Args2D{Int64, Float64}\n",
       "──────────────────────\n",
       "project name    : 2d_discs\n",
       "project path    : /home/zhuo/Workbench/MaterialPointSolver.jl/examples/outputs/2d_discs\n",
       "precision       : FP64\n",
       "constitutive    : linearelastic\n",
       "basis method    : uGIMP\n",
       "mitigate vollock: false\n",
       "coupling scheme : OS\n"
      ]
     },
     "execution_count": 4,
     "metadata": {},
     "output_type": "execute_result"
    }
   ],
   "source": [
    "args = Args2D{iInt, iFloat}(\n",
    "    Ttol         = init_T,\n",
    "    Te           = init_Te, \n",
    "    ΔT           = init_ΔT,\n",
    "    time_step    = :fixed,\n",
    "    FLIP         = 1,\n",
    "    PIC          = 0,\n",
    "    ζs           = init_ζs,\n",
    "    gravity      = init_gravity,\n",
    "    project_name = init_project_name,\n",
    "    project_path = init_project_path,\n",
    "    constitutive = init_constitutive,\n",
    "    animation    = false,\n",
    "    hdf5         = true,\n",
    "    hdf5_step    = init_step,\n",
    "    MVL          = false,\n",
    "    device       = :CUDA,\n",
    "    coupling     = :OS,\n",
    "    scheme       = init_scheme,\n",
    "    basis        = init_basis\n",
    ")"
   ]
  },
  {
   "cell_type": "markdown",
   "id": "d0ebb1a6-d22a-4d75-9949-4758f29a6d1d",
   "metadata": {},
   "source": [
    "### Background Grid Setup"
   ]
  },
  {
   "cell_type": "code",
   "execution_count": 5,
   "id": "bf708185-b5e2-457b-90b5-71d4c6864ce0",
   "metadata": {},
   "outputs": [
    {
     "data": {
      "text/plain": [
       "Grid2D{Int64, Float64}\n",
       "──────────────────────\n",
       "node: 160801\n",
       "cell: 160000\n"
      ]
     },
     "execution_count": 5,
     "metadata": {},
     "output_type": "execute_result"
    }
   ],
   "source": [
    "grid = Grid2D{iInt, iFloat}(\n",
    "    range_x1 = init_grid_range_x[1],\n",
    "    range_x2 = init_grid_range_x[2],\n",
    "    range_y1 = init_grid_range_y[1],\n",
    "    range_y2 = init_grid_range_y[2],\n",
    "    space_x  = init_grid_space_x,\n",
    "    space_y  = init_grid_space_y,\n",
    "    NIC      = init_NIC,\n",
    "    phase    = init_phase\n",
    ")"
   ]
  },
  {
   "cell_type": "markdown",
   "id": "429f90de-4817-44bf-b508-bb7e9e22cb59",
   "metadata": {},
   "source": [
    "### Material Points Setup"
   ]
  },
  {
   "cell_type": "code",
   "execution_count": 6,
   "id": "07b76fac-b4db-430a-8f02-444eecea725c",
   "metadata": {},
   "outputs": [
    {
     "data": {
      "text/plain": [
       "Particle2D{Int64, Float64}\n",
       "──────────────────────────\n",
       "particle: 40216\n"
      ]
     },
     "execution_count": 6,
     "metadata": {},
     "output_type": "execute_result"
    }
   ],
   "source": [
    "space_x = grid.space_x / init_mp_in_space\n",
    "space_y = grid.space_y / init_mp_in_space\n",
    "x_tmp, y_tmp = meshbuilder(-0.5 + space_x / 2 : space_x : 0.5 - space_x / 2,\n",
    "                           -0.5 + space_y / 2 : space_y : 0.5 - space_y / 2)\n",
    "mp_num  = length(x_tmp)\n",
    "a = findall(i->((-0.5≤x_tmp[i]≤-0.1)&&((y_tmp[i]+0.3)^2≤(0.04-(x_tmp[i]+0.3)^2)) ||\n",
    "                ( 0.1≤x_tmp[i]≤ 0.5)&&((y_tmp[i]-0.3)^2≤(0.04-(x_tmp[i]-0.3)^2))),\n",
    "                1:length(x_tmp))\n",
    "del_id  = deleteat!(1:mp_num |> collect, a)\n",
    "map(i->splice!(i, del_id), [x_tmp, y_tmp])\n",
    "mp_pos = [x_tmp y_tmp]\n",
    "mp_num = length(x_tmp)\n",
    "mp_ρs  = ones(mp_num).*init_ρs\n",
    "mp     = Particle2D{iInt, iFloat}(space_x=space_x, space_y=space_y, pos=mp_pos, ρs=mp_ρs, \n",
    "    NIC=init_NIC, phase=init_phase)\n",
    "lb_id = findall(i->(-0.5≤mp.init[i, 1]≤-0.1)&&\n",
    "                   ((mp.init[i, 2]+0.3)^2≤(0.04-(mp.init[i, 1]+0.3)^2)), 1:mp.num)\n",
    "rt_id = findall(i->( 0.1≤mp.init[i, 1]≤ 0.5)&&\n",
    "                   ((mp.init[i, 2]-0.3)^2≤(0.04-(mp.init[i, 1]-0.3)^2)), 1:mp.num)\n",
    "mp.Vs[lb_id, :] .=  0.1\n",
    "mp.Vs[rt_id, :] .= -0.1\n",
    "mp"
   ]
  },
  {
   "cell_type": "markdown",
   "id": "561d63e9-f6ea-4c05-9aa7-bb142faa93e9",
   "metadata": {},
   "source": [
    "### Particle Property Setup"
   ]
  },
  {
   "cell_type": "code",
   "execution_count": 7,
   "id": "16c8e6f6-9978-4ad3-9441-dca78df5afd8",
   "metadata": {},
   "outputs": [
    {
     "data": {
      "text/plain": [
       "ParticleProperty{Int64, Float64}\n",
       "────────────────────────────────\n",
       "material partition: 1\n"
      ]
     },
     "execution_count": 7,
     "metadata": {},
     "output_type": "execute_result"
    }
   ],
   "source": [
    "mp_layer = ones(mp_num)\n",
    "mp_ν     = [init_ν]\n",
    "mp_E     = [init_E]\n",
    "mp_G     = [init_G]\n",
    "mp_Ks    = [init_Ks]\n",
    "pts_attr = ParticleProperty{iInt, iFloat}(layer=mp_layer, ν=mp_ν, E=mp_E, G=mp_G, Ks=mp_Ks)"
   ]
  },
  {
   "cell_type": "markdown",
   "id": "4d096431-b67b-4d61-b376-50f34fe8e66d",
   "metadata": {},
   "source": [
    "### Boundary Condition Nodes Index"
   ]
  },
  {
   "cell_type": "code",
   "execution_count": 8,
   "id": "8c6002c5-92e0-490c-b62f-54d450a20a61",
   "metadata": {},
   "outputs": [
    {
     "data": {
      "text/plain": [
       "VBoundary2D{Int64, Float64}\n",
       "───────────────────────────\n",
       "velocity boundary\n"
      ]
     },
     "execution_count": 8,
     "metadata": {},
     "output_type": "execute_result"
    }
   ],
   "source": [
    "vx_idx  = zeros(iInt, grid.node_num)\n",
    "vy_idx  = zeros(iInt, grid.node_num) \n",
    "tmp_idx = findall(i->(grid.pos[i, 1]≤-1||grid.pos[i, 1]≥1), 1:grid.node_num)\n",
    "tmp_idy = findall(i->(grid.pos[i, 2]≤-1||grid.pos[i, 2]≥1), 1:grid.node_num)\n",
    "vx_idx[tmp_idx] .= 1\n",
    "vy_idx[tmp_idy] .= 1\n",
    "bc = VBoundary2D{iInt, iFloat}(\n",
    "    Vx_s_Idx = vx_idx,\n",
    "    Vx_s_Val = zeros(grid.node_num),\n",
    "    Vy_s_Idx = vy_idx,\n",
    "    Vy_s_Val = zeros(grid.node_num)\n",
    ")"
   ]
  },
  {
   "cell_type": "markdown",
   "id": "a33a1b26-d5b2-4e15-bf56-578f91ba1eeb",
   "metadata": {},
   "source": [
    "### Rewrite kernel functions\n",
    "\n",
    "- G2P process\n",
    "- constitutive model"
   ]
  },
  {
   "cell_type": "code",
   "execution_count": 9,
   "id": "1d40cd5a-d61c-453e-a974-7a484c8cd136",
   "metadata": {},
   "outputs": [
    {
     "data": {
      "text/plain": [
       "G2Ptest! (generic function with 4 methods)"
      ]
     },
     "execution_count": 9,
     "metadata": {},
     "output_type": "execute_result"
    }
   ],
   "source": [
    "@kernel inbounds=true function G2Ptest!(\n",
    "    grid::    KernelGrid2D{T1, T2},\n",
    "    mp  ::KernelParticle2D{T1, T2}\n",
    ") where {T1, T2}\n",
    "    FNUM_0 = T2(0.0); FNUM_1 = T2(1.0)\n",
    "    ix = @index(Global)\n",
    "    if ix≤mp.num\n",
    "        dF1 = dF2 = dF3 = dF4 = FNUM_0\n",
    "        for iy in Int32(1):Int32(mp.NIC)\n",
    "            p2n = mp.p2n[ix, iy]\n",
    "            ∂Nx = mp.∂Nx[ix, iy]\n",
    "            ∂Ny = mp.∂Ny[ix, iy]\n",
    "            # compute solid incremental deformation gradient\n",
    "            dF1 += grid.Δd_s[p2n, 1]*∂Nx\n",
    "            dF2 += grid.Δd_s[p2n, 1]*∂Ny\n",
    "            dF3 += grid.Δd_s[p2n, 2]*∂Nx\n",
    "            dF4 += grid.Δd_s[p2n, 2]*∂Ny\n",
    "        end\n",
    "        mp.ΔFs[ix, 1] = dF1\n",
    "        mp.ΔFs[ix, 2] = dF2\n",
    "        mp.ΔFs[ix, 3] = dF3\n",
    "        mp.ΔFs[ix, 4] = dF4\n",
    "        # compute strain increment \n",
    "        mp.Δϵij_s[ix, 1] = dF1\n",
    "        mp.Δϵij_s[ix, 2] = dF4\n",
    "        mp.Δϵij_s[ix, 4] = dF2+dF3\n",
    "        # update strain tensor\n",
    "        mp.ϵij_s[ix, 1] += dF1\n",
    "        mp.ϵij_s[ix, 2] += dF4\n",
    "        mp.ϵij_s[ix, 4] += dF2+dF3\n",
    "        # deformation gradient matrix\n",
    "        F1 = mp.F[ix, 1]; F2 = mp.F[ix, 2]; F3 = mp.F[ix, 3]; F4 = mp.F[ix, 4]      \n",
    "        mp.F[ix, 1] = (dF1+FNUM_1)*F1+dF2*F3\n",
    "        mp.F[ix, 2] = (dF1+FNUM_1)*F2+dF2*F4\n",
    "        mp.F[ix, 3] = (dF4+FNUM_1)*F3+dF3*F1\n",
    "        mp.F[ix, 4] = (dF4+FNUM_1)*F4+dF3*F2\n",
    "        # update jacobian value and particle volume\n",
    "        mp.J[ix] = mp.F[ix, 1]*mp.F[ix, 4]-mp.F[ix, 2]*mp.F[ix, 3]\n",
    "    end\n",
    "end"
   ]
  },
  {
   "cell_type": "code",
   "execution_count": 10,
   "id": "c897294f-4683-4c55-91ab-0b32ab066f91",
   "metadata": {},
   "outputs": [
    {
     "data": {
      "text/plain": [
       "test1linear! (generic function with 4 methods)"
      ]
     },
     "execution_count": 10,
     "metadata": {},
     "output_type": "execute_result"
    }
   ],
   "source": [
    "@kernel inbounds=true function test1linear!(\n",
    "    mp      ::      KernelParticle2D{T1, T2},\n",
    "    pts_attr::KernelParticleProperty{T1, T2}\n",
    ") where {T1, T2}\n",
    "    FNUM_23 = T2(2/3); FNUM_13 = T2(1/3); FNUM_43 = T2(4/3)\n",
    "    ix = @index(Global)\n",
    "    if ix≤mp.num\n",
    "        pid = pts_attr.layer[ix]\n",
    "        Ks  = pts_attr.Ks[pid]\n",
    "        G   = pts_attr.G[pid]\n",
    "        # linear elastic\n",
    "        Dt = Ks+FNUM_43*G\n",
    "        Dd = Ks-FNUM_23*G\n",
    "        mp.σij[ix, 1] += Dt*mp.Δϵij_s[ix, 1]+Dd*mp.Δϵij_s[ix, 2]+Dd*mp.Δϵij_s[ix, 3]\n",
    "        mp.σij[ix, 2] += Dd*mp.Δϵij_s[ix, 1]+Dt*mp.Δϵij_s[ix, 2]+Dd*mp.Δϵij_s[ix, 3]\n",
    "        mp.σij[ix, 3] += Dd*mp.Δϵij_s[ix, 1]+Dd*mp.Δϵij_s[ix, 2]+Dt*mp.Δϵij_s[ix, 3]\n",
    "        mp.σij[ix, 4] += G *mp.Δϵij_s[ix, 4]\n",
    "        # update mean stress tensor\n",
    "        σm = (mp.σij[ix, 1]+mp.σij[ix, 2]+mp.σij[ix, 3])*FNUM_13\n",
    "        mp.σm[ix] = σm\n",
    "        # update deviatoric stress tensor\n",
    "        mp.sij[ix, 1] = mp.σij[ix, 1]-σm\n",
    "        mp.sij[ix, 2] = mp.σij[ix, 2]-σm\n",
    "        mp.sij[ix, 3] = mp.σij[ix, 3]-σm\n",
    "        mp.sij[ix, 4] = mp.σij[ix, 4]\n",
    "    end\n",
    "end"
   ]
  },
  {
   "cell_type": "markdown",
   "id": "a383a8c0-1fee-4991-98d7-369091745954",
   "metadata": {},
   "source": [
    "- Put them together in an MPM procedure"
   ]
  },
  {
   "cell_type": "code",
   "execution_count": 11,
   "id": "a7163c9d-ad3f-4ce4-8a0e-92b7fc9d5fe9",
   "metadata": {},
   "outputs": [
    {
     "data": {
      "text/plain": [
       "testprocedure! (generic function with 1 method)"
      ]
     },
     "execution_count": 11,
     "metadata": {},
     "output_type": "execute_result"
    }
   ],
   "source": [
    "function testprocedure!(args    ::MODELARGS, \n",
    "                        grid    ::GRID, \n",
    "                        mp      ::PARTICLE, \n",
    "                        pts_attr::PROPERTY,\n",
    "                        bc      ::BOUNDARY,\n",
    "                        ΔT      ::T2,\n",
    "                        Ti      ::T2,\n",
    "                                ::Val{:OS},\n",
    "                                ::Val{:MUSL}) where {T2} # should not change\n",
    "    Ti<args.Te ? G=args.gravity/args.Te*Ti : G=args.gravity\n",
    "    dev = getBackend(Val(args.device))\n",
    "    resetgridstatus_OS!(dev)(ndrange=grid.node_num, grid)\n",
    "    args.device == :CPU && args.basis == :uGIMP ? \n",
    "        resetmpstatus_OS!(grid, mp, Val(args.basis)) :\n",
    "        resetmpstatus_OS!(dev)(ndrange=mp.num, grid, mp, Val(args.basis))\n",
    "    P2G_OS!(dev)(ndrange=mp.num, grid, mp, G)\n",
    "    solvegrid_OS!(dev)(ndrange=grid.node_num, grid, bc, ΔT, args.ζs)\n",
    "    doublemapping1_OS!(dev)(ndrange=mp.num, grid, mp, pts_attr, ΔT, args.FLIP, args.PIC)\n",
    "    doublemapping2_OS!(dev)(ndrange=mp.num, grid, mp)\n",
    "    doublemapping3_OS!(dev)(ndrange=grid.node_num, grid, bc, ΔT)\n",
    "    G2Ptest!(dev)(ndrange=mp.num, grid, mp) # new kernel function\n",
    "    test1linear!(dev)(ndrange=mp.num, mp, pts_attr) # new kernel function\n",
    "    if args.MVL==true\n",
    "        vollock1_OS!(dev)(ndrange=mp.num, grid, mp)\n",
    "        vollock2_OS!(dev)(ndrange=mp.num, grid, mp)\n",
    "    end                                  \n",
    "    return nothing\n",
    "end"
   ]
  },
  {
   "cell_type": "markdown",
   "id": "f35f7adb-81ff-45b4-a963-9701ad878c51",
   "metadata": {},
   "source": [
    "### MPM Solver\n",
    "\n",
    "!!! Here we identify the workflow as `testprocedure!`."
   ]
  },
  {
   "cell_type": "code",
   "execution_count": 12,
   "id": "a39216f2-bfe8-4dc2-b1ad-fb6fd27b3124",
   "metadata": {},
   "outputs": [
    {
     "name": "stdout",
     "output_type": "stream",
     "text": [
      "\u001b[1;32m[▲ I/O:\u001b[0m \u001b[0;32mhost [≈ 0.1 GiB] → device 0 [:CUDA]\u001b[0m\n"
     ]
    },
    {
     "name": "stderr",
     "output_type": "stream",
     "text": [
      "\u001b[36m\u001b[1m┌ \u001b[22m\u001b[39m\u001b[36m\u001b[1mInfo: \u001b[22m\u001b[39m2d_discs [2D/CUDA]\n",
      "\u001b[36m\u001b[1m│ \u001b[22m\u001b[39m────────────────┬─────────────┬─────────────────\n",
      "\u001b[36m\u001b[1m│ \u001b[22m\u001b[39mΔT  : 2.50e-03s │ PIC :  0.00 │ scheme   : MUSL\n",
      "\u001b[36m\u001b[1m│ \u001b[22m\u001b[39mTtol: 3.00e+00s │ FLIP:  1.00 │ coupling : OS\n",
      "\u001b[36m\u001b[1m│ \u001b[22m\u001b[39mpts : 4.02e+04  │ ζs  :  0.00 │ animation: false\n",
      "\u001b[36m\u001b[1m│ \u001b[22m\u001b[39mnds : 1.61e+05  │ ζw  :  0.00 │ precision: FP64\n",
      "\u001b[36m\u001b[1m│ \u001b[22m\u001b[39mMVL :    false  │ HDF5:  true │ material : L-E\n",
      "\u001b[36m\u001b[1m└ \u001b[22m\u001b[39m────────────────┴─────────────┴─────────────────\n",
      "\u001b[37m\u001b[1;36m[ Info:\u001b[0m solving 100% ◼◼◼◼◼◼◼◼◼◼◼◼  Time: 0:00:05\u001b[39m\n"
     ]
    },
    {
     "name": "stdout",
     "output_type": "stream",
     "text": [
      "\u001b[1;31m[▼ I/O:\u001b[0m \u001b[0;31mdevice 0 [CUDA] → host\u001b[0m\n",
      "\u001b[1;32m[• I/O:\u001b[0m \u001b[0;32mfree device 0 memory\u001b[0m\n"
     ]
    },
    {
     "name": "stderr",
     "output_type": "stream",
     "text": [
      "\u001b[36m\u001b[1m┌ \u001b[22m\u001b[39m\u001b[36m\u001b[1mInfo: \u001b[22m\u001b[39mperformance\n",
      "\u001b[36m\u001b[1m│ \u001b[22m\u001b[39m─────────────────────\n",
      "\u001b[36m\u001b[1m│ \u001b[22m\u001b[39mwtime: 00:00:05\n",
      "\u001b[36m\u001b[1m│ \u001b[22m\u001b[39miters: 1.20e+03\n",
      "\u001b[36m\u001b[1m│ \u001b[22m\u001b[39mspeed: 2.50e+02  it/s\n",
      "\u001b[36m\u001b[1m│ \u001b[22m\u001b[39mMTeff: 2.61e+01 GiB/s\n",
      "\u001b[36m\u001b[1m└ \u001b[22m\u001b[39m─────────────────────\n"
     ]
    }
   ],
   "source": [
    "materialpointsolver!(args, grid, mp, pts_attr, bc, workflow=testprocedure!)"
   ]
  },
  {
   "cell_type": "markdown",
   "id": "cad9b496-5f0e-4df4-bdbc-ddbeddc785e8",
   "metadata": {},
   "source": [
    "### Post processing"
   ]
  },
  {
   "cell_type": "code",
   "execution_count": 13,
   "id": "1568eed0-101f-4d88-9c4a-1717429739ab",
   "metadata": {},
   "outputs": [
    {
     "name": "stderr",
     "output_type": "stream",
     "text": [
      "\u001b[37m\u001b[1;36m[ Info:\u001b[0m   video 100% ◼◼◼◼◼◼◼◼◼◼◼◼  Time: 0:03:04\u001b[39m\n"
     ]
    }
   ],
   "source": [
    "# dashboard (it will take some time ...)\n",
    "@views let\n",
    "    hdf5_path  = joinpath(args.project_path, \"$(args.project_name).h5\")\n",
    "    fid        = h5open(hdf5_path, \"r\")\n",
    "    video_step = 5\n",
    "    video_fps  = 30\n",
    "    itr        = (read(fid[\"FILE_NUM\"])-1) |> Int64\n",
    "    mp_pos     = Observable(fid[\"mp_init\"] |> read)\n",
    "    mp_num     = length(mp_pos[][:, 1])\n",
    "    mp_Vsc     = Observable(zeros(mp_num))\n",
    "    mp_σm      = Observable(zeros(mp_num))\n",
    "    e1         = Observable(Point2f[(0.0, 0.0)])\n",
    "    e2         = Observable(Point2f[(0.0, 0.0)])\n",
    "    e3         = Observable(Point2f[(0.0, 0.0)])\n",
    "    anno       = Observable(0.0)\n",
    "\n",
    "    fig = Figure(size=(1080, 820), fontsize=25, fonts=(; regular=figregular, \n",
    "        bold=figbold))\n",
    "    Label(fig[0, 1:4], \"Two elastic bodies collision\", fontsize=30)\n",
    "    ax1 = Axis(fig[1, 1], aspect=DataAspect(), xticks=(-0.5:0.2:0.5), \n",
    "        yticks=(-0.5:0.2:0.5))\n",
    "    ax2 = Axis(fig[1, 3], aspect=DataAspect(), xticks=(-0.5:0.2:0.5), \n",
    "        yticks=(-0.5:0.2:0.5))\n",
    "    ax3 = Axis(fig[2, 1:4], aspect=AxisAspect(4), xticks=(0:0.5:3.0), \n",
    "        yticks=(0.5:1:2.5))\n",
    "    \n",
    "    p1 = scatter!(ax1, mp_pos, color=mp_σm, colormap=:darktest, markersize=2, \n",
    "        colorrange=(-300, 100))\n",
    "    Colorbar(fig[1, 2], p1, width=20, spinewidth=0, label=\"Mean stress\")\n",
    "    p2 = scatter!(ax2, mp_pos, color=mp_Vsc, colormap=:darktest, markersize=2 ,\n",
    "        colorrange=(0, 0.3))\n",
    "    Colorbar(fig[1, 4], p2, width=20, spinewidth=0, label=\"Σ Veloclty\")\n",
    "\n",
    "    p3 = scatterlines!(ax3, e1, markersize=0, linewidth=3, color=:blue )\n",
    "    p4 = scatterlines!(ax3, e2, markersize=0, linewidth=3, color=:green)\n",
    "    p5 = scatterlines!(ax3, e3, markersize=0, linewidth=3, color=:red  )\n",
    "    axislegend(ax3, [p3, p4, p5], [\"kinetic\", \"strain\", \"total\"], \"Energy\", \n",
    "        labelsize=20)\n",
    "    vlines!(ax3, anno  , color=:black, linewidth=1)\n",
    "    vlines!(ax3, 1.5858, color=:red  , linewidth=2, linestyle=:dash)\n",
    "    text!(ax3, 0.8, 1.3, text=\"analytical contact\", fontsize=20)\n",
    "\n",
    "    lines!(ax1, [0, 0], [-0.2, 0.2], color=:red, linewidth=3)\n",
    "    lines!(ax1, [-0.2, 0.2], [0, 0], color=:red, linewidth=3)\n",
    "    lines!(ax2, [0, 0], [-0.2, 0.2], color=:red, linewidth=3)\n",
    "    lines!(ax2, [-0.2, 0.2], [0, 0], color=:red, linewidth=3)\n",
    "    xlims!(ax1, -0.60, 0.6)\n",
    "    ylims!(ax1, -0.60, 0.6)\n",
    "    xlims!(ax2, -0.60, 0.6)\n",
    "    ylims!(ax2, -0.60, 0.6)\n",
    "    xlims!(ax3, -0.1, 3.5)\n",
    "    ylims!(ax3, -0.1, 3.0)\n",
    "    p = Progress(length(1:video_step:itr)-1; \n",
    "        desc=\"\\e[1;36m[ Info:\\e[0m $(lpad(\"video\", 7))\", color=:white, barlen=12, \n",
    "        barglyphs=BarGlyphs(\" ◼◼  \"))\n",
    "    CairoMakie.record(fig, joinpath(args.project_path, \"$(args.project_name).mp4\"),\n",
    "        1:video_step:itr; framerate=video_fps) do i\n",
    "        mp_σij = fid[\"group$(i)/sig\"]   |> read\n",
    "        mp_Ms  = fid[\"group$(i)/mass\"]  |> read\n",
    "        mp_ϵij = fid[\"group$(i)/eps_s\"] |> read\n",
    "        mp_Vol = fid[\"group$(i)/vol\"]   |> read\n",
    "        mp_Vs  = fid[\"group$(i)/v_s\"]   |> read\n",
    "        time   = fid[\"group$(i)/time\"]  |> read\n",
    "        Vsc  = sqrt.(mp_Vs[:, 1].^2 .+mp_Vs[:, 2].^2)\n",
    "        σm   = (mp_σij[:, 1].+mp_σij[:, 2].+mp_σij[:, 3])./3\n",
    "        tmp1 = Point2f(time, sum(sum(0.5.*mp_Vs.^2 .*mp_Ms, dims=2)))\n",
    "        tmp2 = Point2f(time, sum(0.5.*mp_σij.*mp_ϵij.*mp_Vol))\n",
    "        tmp3 = Point2f(time, tmp1[2]+tmp2[2])\n",
    "        mp_pos[] = fid[\"group$(i)/mp_pos\"] |> read\n",
    "        mp_Vsc[] = Vsc\n",
    "        mp_σm[]  = σm\n",
    "        anno[]   = time\n",
    "        push!(e1[], tmp1)\n",
    "        push!(e2[], tmp2)\n",
    "        push!(e3[], tmp3)\n",
    "        next!(p)\n",
    "    end\n",
    "    close(fid)\n",
    "end"
   ]
  },
  {
   "cell_type": "code",
   "execution_count": 1,
   "id": "ad768b39-54d3-45d6-bb30-7e5c97e20c08",
   "metadata": {},
   "outputs": [
    {
     "data": {
      "text/html": [
       "<video width=\"640\" controls>\n",
       "  <source src=\"https://raw.githubusercontent.com/LandslideSIM/.github/main/assets/MaterialPointSolver.jl/2d_discs.mp4\" type=\"video/mp4\">\n",
       "  Your browser does not support the video tag.\n",
       "</video>\n"
      ]
     },
     "metadata": {},
     "output_type": "display_data"
    }
   ],
   "source": [
    "video_path = \"https://raw.githubusercontent.com/LandslideSIM/.github/main/assets/MaterialPointSolver.jl/2d_discs.mp4\"\n",
    "\n",
    "IJulia.display(\"text/html\", \"\"\"\n",
    "<video width=\"640\" controls>\n",
    "  <source src=\"$video_path\" type=\"video/mp4\">\n",
    "  Your browser does not support the video tag.\n",
    "</video>\n",
    "\"\"\")"
   ]
  },
  {
   "cell_type": "code",
   "execution_count": null,
   "id": "40594b6e",
   "metadata": {},
   "outputs": [],
   "source": []
  }
 ],
 "metadata": {
  "kernelspec": {
   "display_name": "Julia 1.10.5",
   "language": "julia",
   "name": "julia-1.10"
  },
  "language_info": {
   "file_extension": ".jl",
   "mimetype": "application/julia",
   "name": "julia",
   "version": "1.10.5"
  }
 },
 "nbformat": 4,
 "nbformat_minor": 5
}
